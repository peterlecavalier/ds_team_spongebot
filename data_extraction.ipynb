{
 "cells": [
  {
   "cell_type": "code",
   "execution_count": null,
   "id": "e620eea4",
   "metadata": {},
   "outputs": [],
   "source": [
    "import numpy as np\n",
    "import pandas as pd \n",
    "import tensorflow as tf\n",
    "import re\n",
    "import os\n",
    "import matplotlib.pyplot as plt\n"
   ]
  },
  {
   "cell_type": "code",
   "execution_count": null,
   "id": "5297f210",
   "metadata": {
    "scrolled": true
   },
   "outputs": [],
   "source": [
    "path = \"./spongebob_data\" # make sure this pathname matches or this wont work\n",
    "dir_list = os.listdir(path)\n",
    " \n",
    "print(\"Files and directories in '\", path, \"' :\")\n",
    "print(dir_list)"
   ]
  },
  {
   "cell_type": "code",
   "execution_count": null,
   "id": "3563c0a9",
   "metadata": {},
   "outputs": [],
   "source": [
    "transcripts = {}\n",
    "\n",
    "\n",
    "for dirname, _, filenames in os.walk(path):\n",
    "    for filename in filenames:\n",
    "        file = os.path.join(dirname,filename)\n",
    "        f = open(file)\n",
    "        transcripts[os.path.basename(file[:-4])] = f.read()\n",
    "print(len(transcripts))"
   ]
  },
  {
   "cell_type": "code",
   "execution_count": null,
   "id": "e0ade2ff",
   "metadata": {},
   "outputs": [],
   "source": [
    "lines = {episode: transcripts[episode].splitlines() for episode in transcripts.keys()}\n",
    "print(lines['KrabBorg']) # check that it works"
   ]
  },
  {
   "cell_type": "code",
   "execution_count": null,
   "id": "3b36f84a",
   "metadata": {},
   "outputs": [],
   "source": [
    "spongebob_lines = {}\n",
    "for episode in lines:\n",
    "    episode_lines = lines[episode]\n",
    "    spongebob_episode_lines = []\n",
    "    for line in episode_lines:\n",
    "        if('SpongeBob:' in line and line.find('SpongeBob:') == 0):\n",
    "            spongebob_episode_lines.append(line)\n",
    "    spongebob_lines[episode] = spongebob_episode_lines\n",
    "print(spongebob_lines['KrabBorg'])"
   ]
  },
  {
   "cell_type": "code",
   "execution_count": null,
   "id": "34a99c74",
   "metadata": {},
   "outputs": [],
   "source": [
    "spongebob_num_lines = {episode: len(spongebob_lines[episode]) for episode in spongebob_lines.keys()}\n",
    "plt.xlabel('Number of Lines')\n",
    "plt.ylabel('Frequency')\n",
    "plt.hist(spongebob_num_lines.values(), bins=20)\n",
    "plt.title('Number of spongebob lines per episode')"
   ]
  },
  {
   "cell_type": "code",
   "execution_count": null,
   "id": "d537906d",
   "metadata": {},
   "outputs": [],
   "source": [
    "def hasNestedBrackets(line):\n",
    "    left_bracket_indices =  [i for i, char in enumerate(line) if char == '[']\n",
    "    right_bracket_indices = [i for i, char in enumerate(line) if char == ']']\n",
    "    if len(left_bracket_indices) == 0:\n",
    "        return False\n",
    "    for i in range(len(left_bracket_indices)):\n",
    "        if(i == len(left_bracket_indices)-1):\n",
    "            return False\n",
    "        if left_bracket_indices[i+1] < right_bracket_indices[i]:\n",
    "            return True\n",
    "    return True\n",
    "       \n",
    "         \n",
    "def getRidOfStuffInBrackets(line):\n",
    "    if(line is None or line == ''): \n",
    "        print('line dne', line)\n",
    "        return ''\n",
    "    if line.count('[') != line.count(']'):\n",
    "        print('incorrect brackets')\n",
    "        return ''\n",
    "    if hasNestedBrackets(line):\n",
    "        print('nested brackets')\n",
    "        return ''\n",
    "    num_iter = 0\n",
    "    new_line = line\n",
    "    while ('[' in new_line and ']' in new_line):\n",
    "            start_idx, end_idx = new_line.find('['), new_line.find(']')\n",
    "            new_line = new_line[0 : start_idx] + new_line[end_idx+1:]  \n",
    "            num_iter += 1\n",
    "            if(num_iter == 100): \n",
    "                print(\"original:\\n\", line, \"\\nNew:\\n\", new_line, \"\\n---------------\")\n",
    "                return ''\n",
    "    return new_line\n",
    "    \n",
    "\n",
    "\n"
   ]
  },
  {
   "cell_type": "code",
   "execution_count": null,
   "id": "ab37f38f",
   "metadata": {
    "scrolled": true
   },
   "outputs": [],
   "source": [
    "for n, episode in enumerate(spongebob_lines):\n",
    "    episode_lines = []\n",
    "    for i, line in enumerate(spongebob_lines[episode]):\n",
    "        no_bracket_line = getRidOfStuffInBrackets(line)\n",
    "        episode_lines.append(no_bracket_line)\n",
    "    spongebob_lines[episode] = episode_lines\n",
    "        \n",
    "print(spongebob_lines['KrabBorg'])"
   ]
  }
 ],
 "metadata": {
  "kernelspec": {
   "display_name": "Python 3 (ipykernel)",
   "language": "python",
   "name": "python3"
  },
  "language_info": {
   "codemirror_mode": {
    "name": "ipython",
    "version": 3
   },
   "file_extension": ".py",
   "mimetype": "text/x-python",
   "name": "python",
   "nbconvert_exporter": "python",
   "pygments_lexer": "ipython3",
   "version": "3.9.7"
  }
 },
 "nbformat": 4,
 "nbformat_minor": 5
}
