{
 "cells": [
  {
   "cell_type": "code",
   "execution_count": 17,
   "id": "e620eea4",
   "metadata": {},
   "outputs": [],
   "source": [
    "import numpy as np\n",
    "import pandas as pd \n",
    "import tensorflow as tf\n",
    "import re\n",
    "import os\n",
    "import matplotlib.pyplot as plt\n",
    "import nltk\n",
    "from nltk.tokenize import word_tokenize\n",
    "from nltk.tokenize import sent_tokenize"
   ]
  },
  {
   "cell_type": "code",
   "execution_count": 18,
   "id": "5297f210",
   "metadata": {
    "scrolled": true
   },
   "outputs": [
    {
     "name": "stdout",
     "output_type": "stream",
     "text": [
      "Files and directories in ' ./spongebob_data ' :\n",
      "['LighthouseLouie.txt', 'PennyFoolish.txt', 'BarnacleFace.txt', 'OralReport.txt', 'TheKrustySlammer.txt', 'SentimentalSponge.txt', 'FunSizedFriends.txt', 'ManRayReturns.txt', 'MyLeg.txt', 'BummerVacation.txt', 'PatricksCoupon.txt', 'GulliblePants.txt', 'TheGreatPattyCaper.txt', 'StuckontheRoof.txt', 'Karen.txt', 'BigSisterSam.txt', 'MermaidManandBarnacleBoy.txt', 'ACabinintheKelp.txt', 'MermaidManandBarnacleBoyV.txt', 'TheGetaway.txt', 'SpongeBobMeetstheStrangler.txt', 'BumpertoBumper.txt', 'GooGooGas.txt', 'BigPinkLoser.txt', 'GrandmumstheWord.txt', 'ToyStoreofDoom.txt', 'NewLeaf.txt', 'SandCastlesintheSand.txt', 'BornAgainKrabs.txt', 'BuriedinTime.txt', 'AreYouHappyNow.txt', 'SingaSongofPatrick.txt', 'ShellbackShenanigans.txt', 'OldManPatrick.txt', 'PatricksStaycation.txt', 'SB.txt', 'ChimpsAhoy.txt', 'NaturePants.txt', 'SpongeBobvsthePattyGadget.txt', 'LarrytheFloorManager.txt', 'NightLight.txt', 'SalsaImbecilicus.txt', 'ChefBob.txt', 'PetorPests.txt', 'LarrysGym.txt', 'YetiKrabs.txt', 'PatNoPay.txt', 'KeepBikiniBottomBeautiful.txt', 'TheCurseofBikiniBottom.txt', 'PlanktonsArmy.txt', 'BacktothePast.txt', 'FreeSamples.txt', 'KrustyTowers.txt', 'KingPlankton.txt', 'SquidNoir.txt', 'TheAlgaesAlwaysGreener.txt', 'ToSquarePantsorNottoSquarePants.txt', 'SqueakyBoots.txt', 'SpongeCano.txt', 'PlanktonsRegular.txt', 'FearofaKrabbyPatty.txt', 'BurstYourBubble.txt', 'HighSeaDiving.txt', 'WhirlyBrains.txt', 'MidLifeCrustacean.txt', 'Clams.txt', 'SquirrelRecord.txt', 'SunBleached.txt', 'SmootheJazzatBikiniBottom.txt', 'SquidPlusOne.txt', 'BoatSmarts.txt', 'CaveDwellingSponge.txt', 'TheBattleofBikiniBottom.txt', 'AllThatGlitters.txt', 'Trenchbilles.txt', 'ItsaSpongeBobChristmas.txt', 'ReefBlower.txt', 'LibraryCards.txt', 'ThatSinkingFeeling.txt', 'TruthorSquare.txt', 'SpongeBobsBigBirthdayBlowout.txt', 'FrozenFaceOff.txt', 'SpongeBobSquarePantsvsTheBigOne.txt', 'ThePinkPurloiner.txt', 'ChocolateWithNuts.txt', 'TheSpongeWhoCouldFly.txt', 'AsSeenonTV.txt', 'SandysNuttyNieces.txt', 'CompanyPicnic.txt', 'NeptunesSpatula.txt', 'FungusAmongUs.txt', 'MermaidManBegins.txt', 'BreathofFreshSquidward.txt', 'SandysRocket.txt', 'SellingOut.txt', 'SingleCellAnniversary.txt', 'WetPainters.txt', 'SummerJob.txt', 'AtlantisSquarePantis.txt', 'MrKrabsTakesaVacation.txt', 'BulletinBoard.txt', 'DirtyBubbleReturns.txt', 'BossyBoots.txt', 'TheGhostofPlankton.txt', 'BannedinBikiniBottom.txt', 'SurvivaloftheIdiots.txt', 'BubbleBuddyReturns.txt', 'BlackenedSponge.txt', 'MermaidManandBarnacleBoyII.txt', 'TheTwoFacesofSquidward.txt', 'SquidwardtheUnfriendlyGhost.txt', 'DyingforPie.txt', 'SpongeBobYoureFired.txt', 'GarysGotLegs.txt', 'TheMainDrain.txt', 'TheWayoftheSponge.txt', 'WalkingSmall.txt', 'TheExecutiveTreatment.txt', 'WhatsEatingPatrick.txt', 'SpongeHenge.txt', 'Pressure.txt', 'PullUpaBarrel.txt', 'FeralFriends.txt', 'WhatEverHappenedtoSpongeBob.txt', 'MermaidManandBarnacleBoyIII.txt', 'YoursMineandMine.txt', 'LeBigSwitch.txt', 'FunnyPants.txt', 'StuckintheWringer.txt', 'ClubSpongeBob.txt', 'PestoftheWest.txt', 'KarateStar.txt', 'StanleySSquarePants.txt', 'Mooncation.txt', 'TheCurseoftheHex.txt', 'SquilliamReturns.txt', 'OneCoarseMeal.txt', 'PlanktonsGoodEye.txt', 'PattheHorse.txt', 'SquidBaby.txt', 'AppointmentTV.txt', 'TheNitwitting.txt', 'BubbleBuddy.txt', 'GaryTakesaBath.txt', 'PineappleFever.txt', 'CopyBobDittoPants.txt', 'RuleofDumb.txt', 'SkillCrane.txt', 'GrandmasKisses.txt', 'APalforGary.txt', 'Frankendoodle.txt', 'YouDontKnowSpongebob.txt', 'KomputerOverload.txt', 'OutofthePicture.txt', 'HomeSweetPineapple.txt', 'KrabsvsPlankton.txt', 'TheKrabbyKronicle.txt', 'SnailMail.txt', 'SandySpongeBobandtheWorm.txt', 'ShellofaMan.txt', 'DriveThru.txt', 'TheKrustySponge.txt', 'GrowthSpout.txt', 'Arrgh.txt', 'TutorSauce.txt', 'ShoppingList.txt', 'SeniorDiscount.txt', 'KrustyLove.txt', 'SomethingSmells.txt', 'Gone.txt', 'LifeofCrime.txt', 'KarensBaby.txt', 'MovingBubbleBass.txt', 'CalltheCops.txt', 'DriventoTears.txt', 'SquirrelJokes.txt', 'KrackedKrabs.txt', 'EnchantedTikiDreams.txt', 'BoatingSchool.txt', 'MrsPuffYoureFired.txt', 'TheSmokingPeanut.txt', 'TheOriginalFryCook.txt', 'TheBully.txt', 'FUN.txt', 'TheGreatSnailRace.txt', 'KarateIsland.txt', 'ADayWithoutTears.txt', 'SquidBobTentaclePants.txt', 'TheFryCookGames.txt', 'BubbleTroubles.txt', 'PictureDay.txt', 'TheClamWhisperer.txt', 'ASquarePantsFamilyVacation.txt', 'DoodleDimension.txt', 'PattyCaper.txt', 'OneTrickSponge.txt', 'Breakin.txt', 'TheGooglyArtiste.txt', 'MermaidManandBarnacleBoyIV.txt', 'NotNormal.txt', 'TheHankering.txt', 'PlanktonGetstheBoot.txt', 'DoingTime.txt', 'SpyBuddies.txt', 'NoFreeRides.txt', 'OneKrabsTrash.txt', 'TheInmatesofSummer.txt', 'EmployeeoftheMonth.txt', 'PineappleInvasion.txt', 'ShellShocked.txt', 'NewStudentStarfish.txt', 'TheGoofyNewbie.txt', 'BunnyHunt.txt', 'TheFishBowl.txt', 'LameandFortune.txt', 'HelloBikiniBottom.txt', 'Fiasco.txt', 'FarmerBob.txt', 'SandysNutmare.txt', 'KrabslaMode.txt', 'PlanktonParanoia.txt', 'WhoRZoo.txt', 'PatrickMan.txt', 'TheWreckoftheMaunaLoa.txt', 'PizzaDelivery.txt', 'TheLostMattress.txt', 'BestDayEver.txt', 'Hooky.txt', 'KrustyKrabTrainingVideo.txt', 'Plankton.txt', 'Wigstruck.txt', 'TheChaperone.txt', 'MoneyTalks.txt', 'DontLookNow.txt', 'GhostHost.txt', 'IWasaTeenageGary.txt', 'BucketSweetBucket.txt', 'MustardOMine.txt', 'SweetandSourSquid.txt', 'BrokenAlarm.txt', 'SailorMouth.txt', 'ToLoveaPatty.txt', 'TheGiftofGum.txt', 'TheKrabbyPattythatAteBikiniBottom.txt', 'TunnelofGlove.txt', 'GirlsNightOut.txt', 'AccidentsWillHappen.txt', 'PranksaLot.txt', 'GiantSquidward.txt', 'RockBottom.txt', 'TheCheckUp.txt', 'PatrickTheGame.txt', 'WhaleWatching.txt', 'TheLegendofBookiniBottom.txt', 'TheCampingEpisode.txt', 'TheSlumberParty.txt', 'Wormy.txt', 'AFleainHerDome.txt', 'ALifeinaDay.txt', 'Shanghaied.txt', 'JellyfishHunter.txt', 'WelcometotheBikiniBottomTriangle.txt', 'Spongicus.txt', 'ThatsNoLady.txt', 'PattyHype.txt', 'HelpWanted.txt', 'Treats.txt', 'HocusPocus.txt', 'Bubbletown.txt', 'SquidsDayOff.txt', 'Pickles.txt', 'MermaidManandBarnacleBoyVITheMotionPicture.txt', 'MyPrettySeahorse.txt', 'MissingIdentity.txt', 'CodeYellow.txt', 'Procrastination.txt', 'HallMonitor.txt', 'Texas.txt', 'ScavengerPants.txt', 'TeaattheTreedome.txt', 'LostinBikiniBottom.txt', 'PrehibernationWeek.txt', 'Sold.txt', 'KrabbyRoad.txt', 'SquidtasticVoyage.txt', 'ItCameFromGooLagoon.txt', 'PineappleRV.txt', 'TheSplinter.txt', 'TheThing.txt', 'DontFeedtheClowns.txt', 'ChumBucketSupreme.txt', 'WhaleofaBirthday.txt', 'TheCard.txt', 'SpongebobLongPants.txt', 'PattiesUndertheSea.txt', 'RollerCowards.txt', 'KrabBorg.txt', 'SquidsVisit.txt', 'ChumFricassee.txt', 'TwoThumbsDown.txt', 'BestFrenemies.txt', 'LostandFound.txt', 'RestrainingSpongeBob.txt', 'HaveYouSeenThisSnail.txt', 'KennytheCat.txt', 'BottleBurglars.txt', 'NewDigs.txt', 'CultureShock.txt', 'TheKrustyPlate.txt', 'RiseandShine.txt', 'ChatterboxGary.txt', 'InSPONGEiac.txt', 'FaceFreeze.txt', 'SpongebobsLastStand.txt', 'TheHotShot.txt', 'SleepyTime.txt', 'GrandpappythePirate.txt', 'TridentTrouble.txt', 'OnceBitten.txt', 'SlimyDancing.txt', 'ToSaveaSquirrel.txt', 'NoNoseKnows.txt', 'PlanktonsPet.txt', 'SquidonStrike.txt', 'Patnocchio.txt', 'LittleYellowBook.txt', 'TheIncredibleShrinkingSponge.txt', 'HouseFancy.txt', 'DontWakePatrick.txt', 'SpintheBottle.txt', 'OppositeDay.txt', 'GoodNeighbors.txt', 'TheMonsterWhoCametoBikiniBottom.txt', 'TheDonutofShame.txt', 'SpongeGuardonDuty.txt', 'TheAbrasiveSide.txt', 'WelcometotheChumBucket.txt', 'FoolsinApril.txt', 'GoodbyeKrabbyPatty.txt', 'MarriedtoMoney.txt', 'GraveyardShift.txt', 'StormyWeather.txt', 'BoatingBuddies.txt', 'CephalopodLodge.txt', 'MoveItorLoseIt.txt', 'NastyPatty.txt', 'NoHatforPat.txt', 'Handemonium.txt', 'ChristmasWho.txt', 'KrustyKrushers.txt', 'GaryinLove.txt', 'IHadanAccident.txt', 'MallGirlPearl.txt', 'TheBadGuyClubforVillains.txt', 'GrammasSecretRecipe.txt', 'FriendorFoe.txt', 'SnowballEffect.txt', 'GaryampSpot.txt', 'Squiditis.txt', 'RippedPants.txt', 'KarensVirus.txt', 'BiddySitting.txt', 'KrabbyLand.txt', 'BlackJack.txt', 'IdiotBox.txt', 'KrustyKleaners.txt', 'GloveWorldRIP.txt', 'TheKrustyBucket.txt', 'CanYouSpareaDime.txt', 'Dumped.txt', 'SquidWood.txt', 'ModelSponge.txt', 'KarateChoppers.txt', 'PetSitterPat.txt', 'MuscleBobBuffPants.txt', 'PatrickSmartPants.txt', 'SuctionCupSymphony.txt', 'Waiting.txt', 'HouseSittinforSandy.txt', 'BorntoBeWild.txt', 'TheWholeTooth.txt', 'TheSecretBox.txt', 'NoWeeniesAllowed.txt', 'ForHeretoGo.txt', 'ArtistUnknown.txt', 'HouseWorming.txt', 'DemolitionDoofus.txt', 'AFriendlyGame.txt', 'RockaByeBivalve.txt', 'PartyPooperPants.txt', 'NaughtyNauticalNeighbors.txt', 'GoonsontheMoon.txt', 'Ugh.txt']\n"
     ]
    }
   ],
   "source": [
    "path = \"./spongebob_data\" # make sure this pathname matches or this wont work\n",
    "dir_list = os.listdir(path)\n",
    " \n",
    "print(\"Files and directories in '\", path, \"' :\")\n",
    "print(dir_list)"
   ]
  },
  {
   "cell_type": "code",
   "execution_count": 19,
   "id": "3563c0a9",
   "metadata": {},
   "outputs": [
    {
     "name": "stdout",
     "output_type": "stream",
     "text": [
      "393\n"
     ]
    }
   ],
   "source": [
    "transcripts = {}\n",
    "\n",
    "\n",
    "for dirname, _, filenames in os.walk(path):\n",
    "    for filename in filenames:\n",
    "        file = os.path.join(dirname,filename)\n",
    "        f = open(file)\n",
    "        transcripts[os.path.basename(file[:-4])] = f.read()\n",
    "print(len(transcripts))"
   ]
  },
  {
   "cell_type": "code",
   "execution_count": 20,
   "id": "e0ade2ff",
   "metadata": {},
   "outputs": [
    {
     "name": "stdout",
     "output_type": "stream",
     "text": [
      "['', \"TV narrator: [SpongeBob is watching the movie while eating popcorn] We now return to tonight's Creepy Time Theater presentation of Night of the Robot.\", 'Man being chased: [screaming while being chased by a giant robot]', \"SpongeBob: Hurry, Gary, the scary robot movie's on. \", 'Gary: Meow. ', \"SpongeBob: What do you mean I shouldn't watch this? Scary movies don't always freak me out! [scene cuts to SpongeBob lying in his bed, whimpering and shivering] What if Mom is a robot? What if Uncle Sherm is a robot? What if Gary is a robot? Gary? [Gary is sleeping] Psst, Gary? Gare-Bear? [pokes Gary's eye, causing him to wake up] \", 'Gary: Meow! ', \"SpongeBob: Gary, if you were a robot, you'd tell me, right? \", 'Gary: Meow. ', \"SpongeBob: Oh, I've got nothing to worry about. And now to get a good night's sleep. [goes to sleep. Dreams about running from the giant robot from the movie earlier. Scene cuts to the next day at the Krusty Krab, with SpongeBob in the kitchen, panting] Robot! OH MY GOSH! [robot turns out to be a sack of potatoes, a dust pan and broom, and a bucket] Huh? [chuckles nervously. Scene cuts to Mr. Krabs holding down his money on his office desk] \", 'Mr. Krabs: How about a little music to count me money to? [turns on the radio that is next to him] ', 'Radio DJ:  [From the radio] And now for the #1 song in Bikini Bottom: \"Electric Zoo.\" [techno beat is heard. Mr. Krabs starts counting his money] ', \"Mr. Krabs: Hey, that's pretty catchy. Bee-bee-boo-bop, bee-bee-boo-beep. Yeah, that's not bad! I love this young people's music! [scene cuts to the kitchen. A buzzer goes off] \", 'SpongeBob: I SURRENDER!!! Oh... ', \"Squidward: SpongeBob! [SpongeBob screams. His hat flies onto Squidward's nose] \", 'SpongeBob: Squidward, why are you wearing my hat on your nose? ', \"Squidward: [removes the hat from his nose and puts it back on SpongeBob's head] I'm not wearing your hat on my nose! I'm waiting for #17's order! \", \"SpongeBob: #17 -- [holds up a tray with food] Krabby Patty and a medium beverage. Course. Sorry Squidward, I'm not really feeling myself today. I guess I'm a little bit jumpy. I keep thinking robots are taking over the world, probably on account of this movie I watched last night where robots take over the world. I even asked Gary if he was a robot! Pretty funny, huh? \", 'Squidward: [sarcastically] Hilarious. Just deliver the food. ', \"SpongeBob: [delivers the food to Thaddeus] There you go! Enjoy your... Say, you're not a robot, are you? \", \"Thaddeus: No, I'm not. \", \"SpongeBob: Well, keep your eyes peeled. [in a deep voice] They're everywhere. Back to work! [he runs away, Thaddeus shrugs his shoulders. SpongeBob walks by Mr. Krabs' office] \", 'Mr. Krabs: [from office] I feel completely recharged! ', 'SpongeBob: That sounds like Mr. Krabs. [peeks in the window] ', 'Mr. Krabs: Come on, little buddy, play it again. [shakes his radio] Please? One more time, for me. ', 'SpongeBob: That was strange. Mr. Krabs was talking to his radio, and he said he feels \"recharged.\" [laughs] If I didn\\'t know better, I\\'d say he was... [scene zooms in on SpongeBob] ...a robot! Nah. ', 'Mr. Krabs: [calls the radio station] Yes, hello. I was wondering if you could play that song again. ', 'Radio DJ: [From the phone] Hmmm... which one, man? ', 'Mr. Krabs: The one that goes \"bee-boo-boo-bop, boo-boo-beep.\" ', \"Radio DJ: No, man, you're thinking of wee-wub-wub-womp-wub-wub-womp.\", 'Mr. Krabs: Bee-boo-boo-boo-boo-bop, [Garbled telephone noise] bee-boo-boo-bop, [Garbled telephone noise] boo-boo-bee-bop? [Garbled telephone noise] Not bee-boo-boo-beep? [Garbled telephone noise] Bop...? [Garbled telephone noise] Beep?! [Garbled telephone noise] Boo-boo-bop?! [SpongeBob screams] ', \"SpongeBob: Oh my gosh. Why was Mr. Krabs making all those beeping sounds? Could it be that he's... [scene zooms in on him] ...a robot? Nah. [peeks into the window again and sees Mr. Krabs doing a robot dance on his desk. He jumps onto Squidward's arms] Oh, Squidward, it's terrible! Mr. Krabs... talking to radio... beeping sounds... strange dancing... robot! \", \"Squidward: [picks up SpongeBob off his arms] That's great, SpongeBob. Why don't you work on this problem back in the kitchen! [throws him in the kitchen. Squidward laughs, but SpongeBob reappears beside him. Squidward is confused and looks around for how he did it] \", \"SpongeBob: I'm serious, Squidward! Mr. Krabs is a robot. And I can prove it, too. \", 'Squidward: [confused] How did you...? ', \"SpongeBob: Let's see, in the movie the robots didn't have a sense of humor! They couldn't laugh. Hey, Mr. Krabs! \", 'Mr. Krabs: [runs up to the counter] What is it, boy? ', 'SpongeBob: Squidward just told me a hilarious joke and I thought you might like to hear it. ', 'Mr. Krabs: Is it true, Squidward? Is it hilarious? ', 'Squidward: Umm... yeah, sure. ', \"Mr. Krabs: Well, let's hear it, lad. \", \"SpongeBob: Okay, here it goes! Uhh, how'd it go Squidward? \", \"Squidward: [chuckles nervously] Uhh, it went, umm, uhh, let's see, uhh... why couldn't the 11-year-old get into the pirate movie? \", 'Mr. Krabs: Why? ', 'Squidward: It was rated \"ARRGH!\" [laughing] \"Arrgh!\" Because it\\'s... about... pirates. ', \"Mr. Krabs: I'm not paying you to do stand up, Mr. Squidward! Now get back to work! \", \"SpongeBob: [gasps] Not even a chuckle! See, Squidward? He didn't laugh because he couldn't laugh because he's... [scene zooms in on him] ...a robot! \", \"Squidward: There's a logical explanation why he didn't laugh, SpongeBob. He's obviously heard it before. The only reason you think Krabs is a robot is because you watched that stupid movie. Now why don't you... \", 'SpongeBob: Hey, Mr. Krabs! ', 'Mr. Krabs: [runs up to the counter again] What? What is it, boy? ', \"SpongeBob: Squidward's father never hugged him. Isn't that sad? [pretends to cry] \", 'Mr. Krabs: Yes, I suppose that is rather sad, but Squidward can hug himself during his break. Now get back to work! ', \"SpongeBob: Just like the robot in the movie. He couldn't cry either. \", \"Squidward: SpongeBob, this is getting ridiculous. I'll have you know my father loved me very much! \", \"SpongeBob: That's the final test, Squidward; the love test. Robots can't love. \", 'Squidward: No, wait, SpongeBob! ', 'SpongeBob: Hey, Mr. Krabs! ', 'Mr. Krabs: [runs up to the counter again] What is it, SpongeBob?! ', 'SpongeBob: I just wanted to tell you that Squidward loves you! [Mr. Krabs makes a blank expression on his face] ', 'Mr. Krabs: Get back to work, Mr. Squidward. ', 'SpongeBob: [gulps] Squidward? [Mr. Krabs is at his desk writing something when the radio stops working. Radio breaks with electronic breakage sound effect.] ', \"Mr. Krabs: Aw, me radio died! [takes out the batteries] Hmmm, these batteries still have a little juice in 'em. I know! I'll give 'em to Pearl for Christmas. [puts the batteries in his back pocket. A bell rings and then Mr. Krabs walks over to a pot of boiling water] Me hard-boiled egg is ready! [picks up a pair of tongs] I can already taste it. Come to Papa. [takes the egg out of the water with his tongs] Got ya! And what good is a hot-boiled egg without a little salt? [picks up a salt shaker] \", 'SpongeBob: Mr. Krabs! ', 'Mr. Krabs: [breaks the egg and accidentally tosses the full salt shaker into his eyes, then proceeding to scream in pain] OH, MY EYES!!!! [continues screaming] ', \"SpongeBob: Mr...! [Squidward puts his hand over SpongeBob's mouth] \", 'Squidward: Will you be quiet?! Now listen, what did these robots in the movie look like? ', 'SpongeBob: Well, they had piercing red eyes, metal pinchers for hands, and they ran on batteries. ', 'Squidward: Okay, so tell me, does Mr. Krabs look anything like that?! ', 'Mr. Krabs: [Barges out; his eyes are piercing red, his pair of the tongs snip, then it shows the batteries in his pocket] AHHHH! AHHHH!! AHHH!!! AHHH!!!! OHH!!! AHHHH!! AHH! AHHH!! AHHH!!! AAAAHHHHH!!!! AAAHH! ', 'SpongeBob &amp; Squidward: AAAAAAAHHHHHHHHHHHH!!!!!', 'Mr. Krabs: [continues screaming as he goes into the bathroom] ', \"Squidward: I'll evacuate the customers, you call the navy! \", 'SpongeBob: [runs over to the phone] Hello, Operator? Get me the Navy! ', \"Operator: Hello. You've reached the Navy's automated phone service. \", 'SpongeBob: Squidward! The robots are running the Navy! ', 'Squidward: NOT THE NAVY!!!! [over loudspeaker] Attention, everyone, run for your lives! Robots have taken over the world! [everyone is silent] Our world! [all the customers run out screaming] What do we do now? ', \"SpongeBob: I don't know! [notices a nickel] Hey, a nickel! [he points at it] \", 'Squidward: SpongeBob. ', 'SpongeBob: Sorry. ', \"Mr. Krabs: [walks out of the bathroom, his eyes back to normal] Ah, that's better. [walks back to his office] Bee-boo-boo-boo-bee-bop, boo-boo-bop. \", 'Squidward: We need to find out what that robot did with the real Mr. Krabs, but how? ', 'SpongeBob: Well, in the movie the hero teams up with a buddy, and they get the poop on the robot. ', 'Squidward: They poop on the robot? ', 'SpongeBob: Yeah, you know, they get the straight poop, ask questions, get information. ', \"Squidward: I never thought I'd say this but, SpongeBob, let's get that poop! [grabs the book titled “How To Torture” and reads it with SpongeBob. SpongeBob grabs some rope while Squidward grabs a hammer and a saw. SpongeBob also grabs some old comedy records. Scene cuts to Mr. Krabs' office, where SpongeBob &amp; Squidward enter] \", \"Mr. Krabs: Oh, hello, boys. [they are at the door with angry expressions on their faces] What can I do for you? [SpongeBob &amp; Squidward lock the door] Heh-heh, why did you lock the door? [nervously as they slowly and menacingly approach him] Why do you have that rope? Who's watching the cash register?! [shot of outside the Krusty Krab where loud crashing and everyone screaming can be heard. Back in the office, Squidward ties Mr. Krabs to his office chair] SpongeBob! Squidward! What's the meaning of this?! Untie me this instant!\", 'Squidward: Shut up! [slaps Mr. Krabs] ', 'Mr. Krabs: Sweet Davy Jones, what the heck is going on?! ', 'Squidward: I said [slaps him again] \"shut up!,\" you bucket of bolts! ', \"SpongeBob: I can't take it! [runs off, crying] \", 'Squidward: SpongeBob, are you okay? ', 'SpongeBob: Oh, Squidward, seeing you slap Mr. Krabs like that is just too horrible to watch! ', \"Squidward: No, that's not Mr. Krabs. That's Robot Krabs. [Mr. Krabs is trying to get out of his chair] \", 'SpongeBob: Oh, yeah. ', 'Squidward: And the only way to deal with these robot types is to find out what they know. ', 'SpongeBob: Right. [runs up to Mr. Krabs and then slaps him] ', 'Squidward: SpongeBob, you got to ask him a question first. ', 'SpongeBob: Oh, yeah. What color is my underwear? [slaps him again] ', \"Squidward: SpongeBob, let me handle this. [turns a light on Mr. Krabs] Where's Mr. Krabs? \", \"Mr. Krabs: [confused] What are you talkin' about? I'm Mr. Krabs. [Squidward slaps him again] \", \"Squidward: We can do this all night if you want. Where's Mr. Krabs?\", \"Mr. Krabs: I'm Mr. Krabs.\", \"SpongeBob: Where's Mr. Krabs?\", \"Mr. Krabs: I'm Mr. Krabs.\", \"Squidward: Where's Mr. Krabs?\", 'Mr. Krabs: I am Mr. Krabs! I am! I am! I am! I am! I am! I am! I am!', 'SpongeBob: This is one stubborn robot.', \"Mr. Krabs: [confused, then angrily yells] WHAT?! [his yelling knocks over the light and SpongeBob] You think I'm a ROBOT?!?!\", \"Squidward: We don't think; we know.\", \"Mr. Krabs: That's the silliest thing I ever heard! I am Mr. Krabs!\", \"Squidward: [walks over to SpongeBob] He's not cracking. We'll never get it out of him this way.\", \"SpongeBob: I got an idea. [pokes Squidward's nose] Keep an eye on him, Squidward. Don't fall for any of his robo tricks. [runs out and returns later] If Robot Krabs won't tell us where Mr. Krabs is, maybe one of his little robot friends will. [holds up a blender]\", \"Squidward: SpongeBob, uhh, that's a blender. \", 'SpongeBob: Yeah, but I saw Mr. Krabs talking with his radio before. He called it his \"little buddy.\"', 'Squidward: Oh, really? Put it on the table, SpongeBob.', \"Mr. Krabs: You're gonna interrogate my blender? You're crazy.\", 'Squidward: We\\'re just gonna see what your \"little buddy\" knows. [SpongeBob sets the blender on Mr. Krabs\\' desk. Squidward holds up a bat]', 'Mr. Krabs: [panicking] No, wait! What are you going to do to me blender?! That cost me money!', \"Squidward: Where's Mr. Krabs? [shot of the blender] Not talking, eh? [breaks the blender with the bat]\", 'Mr. Krabs: NOOOO! That cost me $24.95! ', \"SpongeBob: I guess it didn't know anything.\", \"Squidward: Go get the toaster. [SpongeBob gets the toaster then puts it on Mr. Krabs' desk]\", 'Mr. Krabs: No, not me toaster. That cost me $32.50! [Squidward breaks the toaster and then SpongeBob sets a food processor on the desk] $62.67! [Squidward breaks it with the bat. SpongeBob picks up a coffee maker and puts it on the desk] Four... well, actually, that one was a gift. [Squidward breaks it] NOOOOOOOOOOOOOOOOO!!!', \"SpongeBob: [while trying to put the cash register on Mr. Krabs' desk] This is the last robot, Squidward.\", 'Mr. Krabs: No, not my cash register! I raised it myself. I got it when it was just a little calculator. [crying] No! [sobbing and then sobbing louder]', \"Squidward: I thought you said robots can't cry.\", \"SpongeBob: I also said they couldn't love.\", 'Mr. Krabs: [crying] I loved it like it was me own.', \"SpongeBob: Uh, at least he's not laughing. \", 'Mr. Krabs: Oh, I remember the laughs we used to share! [sobbing]', 'Squidward: SpongeBob uhh, how did that movie of yours end?', \"SpongeBob: The movie? Oh, yeah! The ending was great! Turns out there weren't any robots after all. It was just their... [slows down, as he realizes his mistake] imagination. [chuckles nervously, timpani noise, as if he anticipates Squidward to be angry at him, then checks his watch] Hey, it's time to feed Gary. [runs out while Squidward smiles nervously at Mr. Krabs and then grabs a broom and sweeps the broken pieces on the floor. Mr. Krabs becomes infuriated, the scene then exits from the office to the exterior of The Krusty Krab outside.]\", 'Mr. Krabs: [Growling, starting the background shaking] SQUIDWARD!!!', '']\n"
     ]
    }
   ],
   "source": [
    "lines = {episode: transcripts[episode].splitlines() for episode in transcripts.keys()}\n",
    "print(lines['KrabBorg']) # check that it works"
   ]
  },
  {
   "cell_type": "code",
   "execution_count": 21,
   "id": "3b36f84a",
   "metadata": {},
   "outputs": [
    {
     "name": "stdout",
     "output_type": "stream",
     "text": [
      "[\"SpongeBob: Hurry, Gary, the scary robot movie's on. \", \"SpongeBob: What do you mean I shouldn't watch this? Scary movies don't always freak me out! [scene cuts to SpongeBob lying in his bed, whimpering and shivering] What if Mom is a robot? What if Uncle Sherm is a robot? What if Gary is a robot? Gary? [Gary is sleeping] Psst, Gary? Gare-Bear? [pokes Gary's eye, causing him to wake up] \", \"SpongeBob: Gary, if you were a robot, you'd tell me, right? \", \"SpongeBob: Oh, I've got nothing to worry about. And now to get a good night's sleep. [goes to sleep. Dreams about running from the giant robot from the movie earlier. Scene cuts to the next day at the Krusty Krab, with SpongeBob in the kitchen, panting] Robot! OH MY GOSH! [robot turns out to be a sack of potatoes, a dust pan and broom, and a bucket] Huh? [chuckles nervously. Scene cuts to Mr. Krabs holding down his money on his office desk] \", 'SpongeBob: I SURRENDER!!! Oh... ', 'SpongeBob: Squidward, why are you wearing my hat on your nose? ', \"SpongeBob: #17 -- [holds up a tray with food] Krabby Patty and a medium beverage. Course. Sorry Squidward, I'm not really feeling myself today. I guess I'm a little bit jumpy. I keep thinking robots are taking over the world, probably on account of this movie I watched last night where robots take over the world. I even asked Gary if he was a robot! Pretty funny, huh? \", \"SpongeBob: [delivers the food to Thaddeus] There you go! Enjoy your... Say, you're not a robot, are you? \", \"SpongeBob: Well, keep your eyes peeled. [in a deep voice] They're everywhere. Back to work! [he runs away, Thaddeus shrugs his shoulders. SpongeBob walks by Mr. Krabs' office] \", 'SpongeBob: That sounds like Mr. Krabs. [peeks in the window] ', 'SpongeBob: That was strange. Mr. Krabs was talking to his radio, and he said he feels \"recharged.\" [laughs] If I didn\\'t know better, I\\'d say he was... [scene zooms in on SpongeBob] ...a robot! Nah. ', \"SpongeBob: Oh my gosh. Why was Mr. Krabs making all those beeping sounds? Could it be that he's... [scene zooms in on him] ...a robot? Nah. [peeks into the window again and sees Mr. Krabs doing a robot dance on his desk. He jumps onto Squidward's arms] Oh, Squidward, it's terrible! Mr. Krabs... talking to radio... beeping sounds... strange dancing... robot! \", \"SpongeBob: I'm serious, Squidward! Mr. Krabs is a robot. And I can prove it, too. \", \"SpongeBob: Let's see, in the movie the robots didn't have a sense of humor! They couldn't laugh. Hey, Mr. Krabs! \", 'SpongeBob: Squidward just told me a hilarious joke and I thought you might like to hear it. ', \"SpongeBob: Okay, here it goes! Uhh, how'd it go Squidward? \", \"SpongeBob: [gasps] Not even a chuckle! See, Squidward? He didn't laugh because he couldn't laugh because he's... [scene zooms in on him] ...a robot! \", 'SpongeBob: Hey, Mr. Krabs! ', \"SpongeBob: Squidward's father never hugged him. Isn't that sad? [pretends to cry] \", \"SpongeBob: Just like the robot in the movie. He couldn't cry either. \", \"SpongeBob: That's the final test, Squidward; the love test. Robots can't love. \", 'SpongeBob: Hey, Mr. Krabs! ', 'SpongeBob: I just wanted to tell you that Squidward loves you! [Mr. Krabs makes a blank expression on his face] ', 'SpongeBob: [gulps] Squidward? [Mr. Krabs is at his desk writing something when the radio stops working. Radio breaks with electronic breakage sound effect.] ', 'SpongeBob: Mr. Krabs! ', \"SpongeBob: Mr...! [Squidward puts his hand over SpongeBob's mouth] \", 'SpongeBob: Well, they had piercing red eyes, metal pinchers for hands, and they ran on batteries. ', 'SpongeBob: [runs over to the phone] Hello, Operator? Get me the Navy! ', 'SpongeBob: Squidward! The robots are running the Navy! ', \"SpongeBob: I don't know! [notices a nickel] Hey, a nickel! [he points at it] \", 'SpongeBob: Sorry. ', 'SpongeBob: Well, in the movie the hero teams up with a buddy, and they get the poop on the robot. ', 'SpongeBob: Yeah, you know, they get the straight poop, ask questions, get information. ', \"SpongeBob: I can't take it! [runs off, crying] \", 'SpongeBob: Oh, Squidward, seeing you slap Mr. Krabs like that is just too horrible to watch! ', 'SpongeBob: Oh, yeah. ', 'SpongeBob: Right. [runs up to Mr. Krabs and then slaps him] ', 'SpongeBob: Oh, yeah. What color is my underwear? [slaps him again] ', \"SpongeBob: Where's Mr. Krabs?\", 'SpongeBob: This is one stubborn robot.', \"SpongeBob: I got an idea. [pokes Squidward's nose] Keep an eye on him, Squidward. Don't fall for any of his robo tricks. [runs out and returns later] If Robot Krabs won't tell us where Mr. Krabs is, maybe one of his little robot friends will. [holds up a blender]\", 'SpongeBob: Yeah, but I saw Mr. Krabs talking with his radio before. He called it his \"little buddy.\"', \"SpongeBob: I guess it didn't know anything.\", \"SpongeBob: [while trying to put the cash register on Mr. Krabs' desk] This is the last robot, Squidward.\", \"SpongeBob: I also said they couldn't love.\", \"SpongeBob: Uh, at least he's not laughing. \", \"SpongeBob: The movie? Oh, yeah! The ending was great! Turns out there weren't any robots after all. It was just their... [slows down, as he realizes his mistake] imagination. [chuckles nervously, timpani noise, as if he anticipates Squidward to be angry at him, then checks his watch] Hey, it's time to feed Gary. [runs out while Squidward smiles nervously at Mr. Krabs and then grabs a broom and sweeps the broken pieces on the floor. Mr. Krabs becomes infuriated, the scene then exits from the office to the exterior of The Krusty Krab outside.]\"]\n"
     ]
    }
   ],
   "source": [
    "spongebob_lines = {}\n",
    "for episode in lines:\n",
    "    episode_lines = lines[episode]\n",
    "    spongebob_episode_lines = []\n",
    "    for line in episode_lines:\n",
    "        if('SpongeBob:' in line and line.find('SpongeBob:') == 0):\n",
    "            spongebob_episode_lines.append(line)\n",
    "    spongebob_lines[episode] = spongebob_episode_lines\n",
    "print(spongebob_lines['KrabBorg'])"
   ]
  },
  {
   "cell_type": "code",
   "execution_count": 22,
   "id": "34a99c74",
   "metadata": {},
   "outputs": [
    {
     "data": {
      "text/plain": [
       "Text(0.5, 1.0, 'Number of spongebob lines per episode')"
      ]
     },
     "execution_count": 22,
     "metadata": {},
     "output_type": "execute_result"
    },
    {
     "data": {
      "image/png": "[encoded data removed]",
      "text/plain": [
       "<Figure size 432x288 with 1 Axes>"
      ]
     },
     "metadata": {
      "needs_background": "light"
     },
     "output_type": "display_data"
    }
   ],
   "source": [
    "spongebob_num_lines = {episode: len(spongebob_lines[episode]) for episode in spongebob_lines.keys()}\n",
    "plt.xlabel('Number of Lines')\n",
    "plt.ylabel('Frequency')\n",
    "plt.hist(spongebob_num_lines.values(), bins=20)\n",
    "plt.title('Number of spongebob lines per episode')"
   ]
  },
  {
   "cell_type": "code",
   "execution_count": 23,
   "id": "d537906d",
   "metadata": {},
   "outputs": [],
   "source": [
    "def hasNestedBrackets(line):\n",
    "    left_bracket_indices =  [i for i, char in enumerate(line) if char == '[']\n",
    "    right_bracket_indices = [i for i, char in enumerate(line) if char == ']']\n",
    "    if len(left_bracket_indices) == 0:\n",
    "        return False\n",
    "    for i in range(len(left_bracket_indices)):\n",
    "        if(i == len(left_bracket_indices)-1):\n",
    "            return False\n",
    "        if left_bracket_indices[i+1] < right_bracket_indices[i]:\n",
    "            return True\n",
    "    return True\n",
    "       \n",
    "         \n",
    "def getRidOfStuffInBrackets(line):\n",
    "    if(line is None or line == ''): \n",
    "        print('line dne', line)\n",
    "        return ''\n",
    "    if line.count('[') != line.count(']'):\n",
    "        print('incorrect brackets')\n",
    "        return ''\n",
    "    if hasNestedBrackets(line):\n",
    "        print('nested brackets')\n",
    "        return ''\n",
    "    num_iter = 0\n",
    "    new_line = line\n",
    "    while ('[' in new_line and ']' in new_line):\n",
    "            start_idx, end_idx = new_line.find('['), new_line.find(']')\n",
    "            new_line = new_line[0 : start_idx] + new_line[end_idx+1:]  \n",
    "            num_iter += 1\n",
    "            if(num_iter == 100): \n",
    "                print(\"original:\\n\", line, \"\\nNew:\\n\", new_line, \"\\n---------------\")\n",
    "                return ''\n",
    "    return new_line"
   ]
  },
  {
   "cell_type": "code",
   "execution_count": 24,
   "id": "ab37f38f",
   "metadata": {
    "scrolled": true
   },
   "outputs": [
    {
     "name": "stdout",
     "output_type": "stream",
     "text": [
      "incorrect brackets\n",
      "incorrect brackets\n",
      "incorrect brackets\n",
      "incorrect brackets\n",
      "nested brackets\n",
      "incorrect brackets\n",
      "[\"SpongeBob: Hurry, Gary, the scary robot movie's on. \", \"SpongeBob: What do you mean I shouldn't watch this? Scary movies don't always freak me out!  What if Mom is a robot? What if Uncle Sherm is a robot? What if Gary is a robot? Gary?  Psst, Gary? Gare-Bear?  \", \"SpongeBob: Gary, if you were a robot, you'd tell me, right? \", \"SpongeBob: Oh, I've got nothing to worry about. And now to get a good night's sleep.  Robot! OH MY GOSH!  Huh?  \", 'SpongeBob: I SURRENDER!!! Oh... ', 'SpongeBob: Squidward, why are you wearing my hat on your nose? ', \"SpongeBob: #17 --  Krabby Patty and a medium beverage. Course. Sorry Squidward, I'm not really feeling myself today. I guess I'm a little bit jumpy. I keep thinking robots are taking over the world, probably on account of this movie I watched last night where robots take over the world. I even asked Gary if he was a robot! Pretty funny, huh? \", \"SpongeBob:  There you go! Enjoy your... Say, you're not a robot, are you? \", \"SpongeBob: Well, keep your eyes peeled.  They're everywhere. Back to work!  \", 'SpongeBob: That sounds like Mr. Krabs.  ', 'SpongeBob: That was strange. Mr. Krabs was talking to his radio, and he said he feels \"recharged.\"  If I didn\\'t know better, I\\'d say he was...  ...a robot! Nah. ', \"SpongeBob: Oh my gosh. Why was Mr. Krabs making all those beeping sounds? Could it be that he's...  ...a robot? Nah.  Oh, Squidward, it's terrible! Mr. Krabs... talking to radio... beeping sounds... strange dancing... robot! \", \"SpongeBob: I'm serious, Squidward! Mr. Krabs is a robot. And I can prove it, too. \", \"SpongeBob: Let's see, in the movie the robots didn't have a sense of humor! They couldn't laugh. Hey, Mr. Krabs! \", 'SpongeBob: Squidward just told me a hilarious joke and I thought you might like to hear it. ', \"SpongeBob: Okay, here it goes! Uhh, how'd it go Squidward? \", \"SpongeBob:  Not even a chuckle! See, Squidward? He didn't laugh because he couldn't laugh because he's...  ...a robot! \", 'SpongeBob: Hey, Mr. Krabs! ', \"SpongeBob: Squidward's father never hugged him. Isn't that sad?  \", \"SpongeBob: Just like the robot in the movie. He couldn't cry either. \", \"SpongeBob: That's the final test, Squidward; the love test. Robots can't love. \", 'SpongeBob: Hey, Mr. Krabs! ', 'SpongeBob: I just wanted to tell you that Squidward loves you!  ', 'SpongeBob:  Squidward?  ', 'SpongeBob: Mr. Krabs! ', 'SpongeBob: Mr...!  ', 'SpongeBob: Well, they had piercing red eyes, metal pinchers for hands, and they ran on batteries. ', 'SpongeBob:  Hello, Operator? Get me the Navy! ', 'SpongeBob: Squidward! The robots are running the Navy! ', \"SpongeBob: I don't know!  Hey, a nickel!  \", 'SpongeBob: Sorry. ', 'SpongeBob: Well, in the movie the hero teams up with a buddy, and they get the poop on the robot. ', 'SpongeBob: Yeah, you know, they get the straight poop, ask questions, get information. ', \"SpongeBob: I can't take it!  \", 'SpongeBob: Oh, Squidward, seeing you slap Mr. Krabs like that is just too horrible to watch! ', 'SpongeBob: Oh, yeah. ', 'SpongeBob: Right.  ', 'SpongeBob: Oh, yeah. What color is my underwear?  ', \"SpongeBob: Where's Mr. Krabs?\", 'SpongeBob: This is one stubborn robot.', \"SpongeBob: I got an idea.  Keep an eye on him, Squidward. Don't fall for any of his robo tricks.  If Robot Krabs won't tell us where Mr. Krabs is, maybe one of his little robot friends will. \", 'SpongeBob: Yeah, but I saw Mr. Krabs talking with his radio before. He called it his \"little buddy.\"', \"SpongeBob: I guess it didn't know anything.\", 'SpongeBob:  This is the last robot, Squidward.', \"SpongeBob: I also said they couldn't love.\", \"SpongeBob: Uh, at least he's not laughing. \", \"SpongeBob: The movie? Oh, yeah! The ending was great! Turns out there weren't any robots after all. It was just their...  imagination.  Hey, it's time to feed Gary. \"]\n"
     ]
    }
   ],
   "source": [
    "for n, episode in enumerate(spongebob_lines):\n",
    "    episode_lines = []\n",
    "    for i, line in enumerate(spongebob_lines[episode]):\n",
    "        no_bracket_line = getRidOfStuffInBrackets(line)\n",
    "        episode_lines.append(no_bracket_line)\n",
    "    spongebob_lines[episode] = episode_lines\n",
    "        \n",
    "print(spongebob_lines['KrabBorg'])"
   ]
  },
  {
   "cell_type": "code",
   "execution_count": 25,
   "id": "0c8b5444",
   "metadata": {},
   "outputs": [
    {
     "name": "stdout",
     "output_type": "stream",
     "text": [
      "12848\n"
     ]
    }
   ],
   "source": [
    "total_lines = 0\n",
    "for episode in spongebob_lines:\n",
    "    total_lines += len(spongebob_lines[episode])\n",
    "print(total_lines)"
   ]
  },
  {
   "cell_type": "code",
   "execution_count": 26,
   "id": "eeed44b0",
   "metadata": {},
   "outputs": [
    {
     "data": {
      "image/png": "[encoded data removed]",
      "text/plain": [
       "<Figure size 720x360 with 2 Axes>"
      ]
     },
     "metadata": {
      "needs_background": "light"
     },
     "output_type": "display_data"
    }
   ],
   "source": [
    "fig, (ax1, ax2) = plt.subplots(1,2, figsize=(10,5))\n",
    "\n",
    "\n",
    "line_length = [] \n",
    "line_num_words = []\n",
    "for episode in spongebob_lines:\n",
    "    for line in spongebob_lines[episode]:\n",
    "        l = len(line)\n",
    "        if l < 500:\n",
    "            line_length.append(l)\n",
    "            line_num_words.append(len(word_tokenize(line)))\n",
    "ax1.hist(line_length, bins=50)\n",
    "ax1.set_title(\"Number of Characters in Spongebob Lines\")\n",
    "ax1.set_xlabel(\"Number of Characters\")\n",
    "\n",
    "ax2.hist(line_num_words, bins=50)\n",
    "ax2.set_title(\"Number of Words in Spongebob Lines\")\n",
    "ax2.set_xlabel(\"Number of Words\")\n",
    "plt.show()"
   ]
  },
  {
   "cell_type": "code",
   "execution_count": 27,
   "id": "674f3bdd",
   "metadata": {},
   "outputs": [
    {
     "name": "stdout",
     "output_type": "stream",
     "text": [
      "total character mentions:  4442\n"
     ]
    },
    {
     "data": {
      "image/png": "[encoded data removed]",
      "text/plain": [
       "<Figure size 432x288 with 1 Axes>"
      ]
     },
     "metadata": {
      "needs_background": "light"
     },
     "output_type": "display_data"
    }
   ],
   "source": [
    "spongebob_characters = ['Squidward', 'Gary', 'Mr. Krabs', 'Patrick', 'Sandy', 'Mrs. Puff', 'Plankton', 'Larry']\n",
    "character_mention_counts = {'Squidward':0, 'Gary':0, 'Mr. Krabs':0, 'Patrick':0, 'Sandy':0, 'Mrs. Puff':0, 'Plankton':0, 'Larry':0}\n",
    "def hasCharacterMention(line):\n",
    "    hasCharacter = False\n",
    "    for character in spongebob_characters:\n",
    "        if character in line:\n",
    "            character_mention_counts[character] += 1\n",
    "            hasCharacter = True\n",
    "    return hasCharacter\n",
    "\n",
    "\n",
    "num_character_mentions = 0\n",
    "for episode in spongebob_lines:\n",
    "    for line in spongebob_lines[episode]:\n",
    "        if(hasCharacterMention(line)):\n",
    "            num_character_mentions += 1\n",
    "print(\"total character mentions: \", num_character_mentions)\n",
    "plt.bar(character_mention_counts.keys(), character_mention_counts.values())\n",
    "plt.show()\n",
    "\n",
    "    "
   ]
  },
  {
   "cell_type": "code",
   "execution_count": 28,
   "id": "2d2bce7e",
   "metadata": {},
   "outputs": [
    {
     "data": {
      "image/png": "[encoded data removed]",
      "text/plain": [
       "<Figure size 432x288 with 1 Axes>"
      ]
     },
     "metadata": {
      "needs_background": "light"
     },
     "output_type": "display_data"
    }
   ],
   "source": [
    "punctuation_counts = {'?':0, '!':0, '.':0}\n",
    "p = punctuation_counts.keys()\n",
    "def update_punctuation_counts(line):\n",
    "    for punctuation in p:\n",
    "        if punctuation in line:\n",
    "            punctuation_counts[punctuation] += 1\n",
    "    return \n",
    "\n",
    "for episode in spongebob_lines:\n",
    "    for line in spongebob_lines[episode]:\n",
    "        update_punctuation_counts(line)\n",
    "plt.bar(punctuation_counts.keys(), punctuation_counts.values())\n",
    "plt.show()"
   ]
  },
  {
   "cell_type": "code",
   "execution_count": 29,
   "id": "75f44504",
   "metadata": {},
   "outputs": [
    {
     "data": {
      "text/html": [
       "<div>\n",
       "<style scoped>\n",
       "    .dataframe tbody tr th:only-of-type {\n",
       "        vertical-align: middle;\n",
       "    }\n",
       "\n",
       "    .dataframe tbody tr th {\n",
       "        vertical-align: top;\n",
       "    }\n",
       "\n",
       "    .dataframe thead th {\n",
       "        text-align: right;\n",
       "    }\n",
       "</style>\n",
       "<table border=\"1\" class=\"dataframe\">\n",
       "  <thead>\n",
       "    <tr style=\"text-align: right;\">\n",
       "      <th></th>\n",
       "      <th>0</th>\n",
       "      <th>1</th>\n",
       "    </tr>\n",
       "  </thead>\n",
       "  <tbody>\n",
       "    <tr>\n",
       "      <th>0</th>\n",
       "      <td>hi, how are you doing?</td>\n",
       "      <td>i'm fine. how about yourself?</td>\n",
       "    </tr>\n",
       "    <tr>\n",
       "      <th>1</th>\n",
       "      <td>i'm fine. how about yourself?</td>\n",
       "      <td>i'm pretty good. thanks for asking.</td>\n",
       "    </tr>\n",
       "    <tr>\n",
       "      <th>2</th>\n",
       "      <td>i'm pretty good. thanks for asking.</td>\n",
       "      <td>no problem. so how have you been?</td>\n",
       "    </tr>\n",
       "    <tr>\n",
       "      <th>3</th>\n",
       "      <td>no problem. so how have you been?</td>\n",
       "      <td>i've been great. what about you?</td>\n",
       "    </tr>\n",
       "    <tr>\n",
       "      <th>4</th>\n",
       "      <td>i've been great. what about you?</td>\n",
       "      <td>i've been good. i'm in school right now.</td>\n",
       "    </tr>\n",
       "  </tbody>\n",
       "</table>\n",
       "</div>"
      ],
      "text/plain": [
       "                                     0  \\\n",
       "0               hi, how are you doing?   \n",
       "1        i'm fine. how about yourself?   \n",
       "2  i'm pretty good. thanks for asking.   \n",
       "3    no problem. so how have you been?   \n",
       "4     i've been great. what about you?   \n",
       "\n",
       "                                          1  \n",
       "0             i'm fine. how about yourself?  \n",
       "1       i'm pretty good. thanks for asking.  \n",
       "2         no problem. so how have you been?  \n",
       "3          i've been great. what about you?  \n",
       "4  i've been good. i'm in school right now.  "
      ]
     },
     "execution_count": 29,
     "metadata": {},
     "output_type": "execute_result"
    }
   ],
   "source": [
    "chatbotdata = pd.read_csv('dialogs.txt', sep='\\t', header=None)\n",
    "chatbotdata.head(5)"
   ]
  },
  {
   "cell_type": "code",
   "execution_count": 30,
   "id": "e9719bd9",
   "metadata": {},
   "outputs": [
    {
     "name": "stdout",
     "output_type": "stream",
     "text": [
      "(3725, 2)\n"
     ]
    }
   ],
   "source": [
    "print(chatbotdata.shape)"
   ]
  },
  {
   "cell_type": "code",
   "execution_count": 32,
   "id": "3d720e11",
   "metadata": {},
   "outputs": [
    {
     "data": {
      "image/png": "[encoded data removed]",
      "text/plain": [
       "<Figure size 720x360 with 2 Axes>"
      ]
     },
     "metadata": {
      "needs_background": "light"
     },
     "output_type": "display_data"
    }
   ],
   "source": [
    "fig, (ax1, ax2) = plt.subplots(1,2, figsize=(10,5))\n",
    "\n",
    "line_length_cb = []\n",
    "word_count_cb = []\n",
    "\n",
    "for response in chatbotdata[1]:\n",
    "    line_length_cb.append(len(response))\n",
    "    word_count_cb.append(len(word_tokenize(response)))\n",
    "\n",
    "    \n",
    "ax1.hist(line_length_cb, bins=50)\n",
    "ax1.set_title(\"Number of Characters in Chatbot Lines\")\n",
    "ax1.set_xlabel(\"Number of Characters\")\n",
    "\n",
    "ax2.hist(word_count_cb, bins=15)\n",
    "ax2.set_title(\"Number of Words in Chatbot Lines\")\n",
    "ax2.set_xlabel(\"Number of Words\")\n",
    "plt.show()\n"
   ]
  },
  {
   "cell_type": "code",
   "execution_count": 33,
   "id": "d91c2daf",
   "metadata": {},
   "outputs": [
    {
     "data": {
      "image/png": "[encoded data removed]",
      "text/plain": [
       "<Figure size 432x288 with 1 Axes>"
      ]
     },
     "metadata": {
      "needs_background": "light"
     },
     "output_type": "display_data"
    }
   ],
   "source": [
    "punctuation_counts = {'?':0, '!':0, '.':0}\n",
    "p = punctuation_counts.keys()\n",
    "def update_punctuation_counts(line):\n",
    "    for punctuation in p:\n",
    "        if punctuation in line:\n",
    "            punctuation_counts[punctuation] += 1\n",
    "    return \n",
    "\n",
    "\n",
    "for line in chatbotdata[1]:\n",
    "    update_punctuation_counts(line)\n",
    "plt.bar(punctuation_counts.keys(), punctuation_counts.values())\n",
    "plt.show()"
   ]
  },
  {
   "cell_type": "code",
   "execution_count": 52,
   "id": "22296ecf",
   "metadata": {},
   "outputs": [
    {
     "name": "stdout",
     "output_type": "stream",
     "text": [
      "\n"
     ]
    },
    {
     "ename": "ValueError",
     "evalue": "shape mismatch: objects cannot be broadcast to a single shape.  Mismatch is between arg 0 with shape (4,) and arg 1 with shape (3725,).",
     "output_type": "error",
     "traceback": [
      "\u001b[0;31m---------------------------------------------------------------------------\u001b[0m",
      "\u001b[0;31mValueError\u001b[0m                                Traceback (most recent call last)",
      "\u001b[0;32m/var/folders/bh/bkzmld751m5fdgn8m3_kzfmc0000gn/T/ipykernel_88156/524334544.py\u001b[0m in \u001b[0;36m<module>\u001b[0;34m\u001b[0m\n\u001b[1;32m     17\u001b[0m \u001b[0mprint\u001b[0m\u001b[0;34m(\u001b[0m\u001b[0;34m)\u001b[0m\u001b[0;34m\u001b[0m\u001b[0;34m\u001b[0m\u001b[0m\n\u001b[1;32m     18\u001b[0m \u001b[0;34m\u001b[0m\u001b[0m\n\u001b[0;32m---> 19\u001b[0;31m \u001b[0max1\u001b[0m\u001b[0;34m.\u001b[0m\u001b[0mbar\u001b[0m\u001b[0;34m(\u001b[0m\u001b[0mnp\u001b[0m\u001b[0;34m.\u001b[0m\u001b[0mlinspace\u001b[0m\u001b[0;34m(\u001b[0m\u001b[0;36m1\u001b[0m\u001b[0;34m,\u001b[0m \u001b[0mnp\u001b[0m\u001b[0;34m.\u001b[0m\u001b[0mmax\u001b[0m\u001b[0;34m(\u001b[0m\u001b[0mchatbot_sent\u001b[0m\u001b[0;34m)\u001b[0m\u001b[0;34m,\u001b[0m \u001b[0mnp\u001b[0m\u001b[0;34m.\u001b[0m\u001b[0mmax\u001b[0m\u001b[0;34m(\u001b[0m\u001b[0mchatbot_sent\u001b[0m\u001b[0;34m)\u001b[0m\u001b[0;34m)\u001b[0m\u001b[0;34m,\u001b[0m \u001b[0mchatbot_sent\u001b[0m\u001b[0;34m)\u001b[0m\u001b[0;34m\u001b[0m\u001b[0;34m\u001b[0m\u001b[0m\n\u001b[0m\u001b[1;32m     20\u001b[0m \u001b[0max1\u001b[0m\u001b[0;34m.\u001b[0m\u001b[0mset_title\u001b[0m\u001b[0;34m(\u001b[0m\u001b[0;34m\"Number of Sentences in Chatbot Lines\"\u001b[0m\u001b[0;34m)\u001b[0m\u001b[0;34m\u001b[0m\u001b[0;34m\u001b[0m\u001b[0m\n\u001b[1;32m     21\u001b[0m \u001b[0max1\u001b[0m\u001b[0;34m.\u001b[0m\u001b[0mset_xlabel\u001b[0m\u001b[0;34m(\u001b[0m\u001b[0;34m\"Number of Sentences\"\u001b[0m\u001b[0;34m)\u001b[0m\u001b[0;34m\u001b[0m\u001b[0;34m\u001b[0m\u001b[0m\n",
      "\u001b[0;32m~/opt/anaconda3/lib/python3.9/site-packages/matplotlib/__init__.py\u001b[0m in \u001b[0;36minner\u001b[0;34m(ax, data, *args, **kwargs)\u001b[0m\n\u001b[1;32m   1410\u001b[0m     \u001b[0;32mdef\u001b[0m \u001b[0minner\u001b[0m\u001b[0;34m(\u001b[0m\u001b[0max\u001b[0m\u001b[0;34m,\u001b[0m \u001b[0;34m*\u001b[0m\u001b[0margs\u001b[0m\u001b[0;34m,\u001b[0m \u001b[0mdata\u001b[0m\u001b[0;34m=\u001b[0m\u001b[0;32mNone\u001b[0m\u001b[0;34m,\u001b[0m \u001b[0;34m**\u001b[0m\u001b[0mkwargs\u001b[0m\u001b[0;34m)\u001b[0m\u001b[0;34m:\u001b[0m\u001b[0;34m\u001b[0m\u001b[0;34m\u001b[0m\u001b[0m\n\u001b[1;32m   1411\u001b[0m         \u001b[0;32mif\u001b[0m \u001b[0mdata\u001b[0m \u001b[0;32mis\u001b[0m \u001b[0;32mNone\u001b[0m\u001b[0;34m:\u001b[0m\u001b[0;34m\u001b[0m\u001b[0;34m\u001b[0m\u001b[0m\n\u001b[0;32m-> 1412\u001b[0;31m             \u001b[0;32mreturn\u001b[0m \u001b[0mfunc\u001b[0m\u001b[0;34m(\u001b[0m\u001b[0max\u001b[0m\u001b[0;34m,\u001b[0m \u001b[0;34m*\u001b[0m\u001b[0mmap\u001b[0m\u001b[0;34m(\u001b[0m\u001b[0msanitize_sequence\u001b[0m\u001b[0;34m,\u001b[0m \u001b[0margs\u001b[0m\u001b[0;34m)\u001b[0m\u001b[0;34m,\u001b[0m \u001b[0;34m**\u001b[0m\u001b[0mkwargs\u001b[0m\u001b[0;34m)\u001b[0m\u001b[0;34m\u001b[0m\u001b[0;34m\u001b[0m\u001b[0m\n\u001b[0m\u001b[1;32m   1413\u001b[0m \u001b[0;34m\u001b[0m\u001b[0m\n\u001b[1;32m   1414\u001b[0m         \u001b[0mbound\u001b[0m \u001b[0;34m=\u001b[0m \u001b[0mnew_sig\u001b[0m\u001b[0;34m.\u001b[0m\u001b[0mbind\u001b[0m\u001b[0;34m(\u001b[0m\u001b[0max\u001b[0m\u001b[0;34m,\u001b[0m \u001b[0;34m*\u001b[0m\u001b[0margs\u001b[0m\u001b[0;34m,\u001b[0m \u001b[0;34m**\u001b[0m\u001b[0mkwargs\u001b[0m\u001b[0;34m)\u001b[0m\u001b[0;34m\u001b[0m\u001b[0;34m\u001b[0m\u001b[0m\n",
      "\u001b[0;32m~/opt/anaconda3/lib/python3.9/site-packages/matplotlib/axes/_axes.py\u001b[0m in \u001b[0;36mbar\u001b[0;34m(self, x, height, width, bottom, align, **kwargs)\u001b[0m\n\u001b[1;32m   2340\u001b[0m                 \u001b[0myerr\u001b[0m \u001b[0;34m=\u001b[0m \u001b[0mself\u001b[0m\u001b[0;34m.\u001b[0m\u001b[0m_convert_dx\u001b[0m\u001b[0;34m(\u001b[0m\u001b[0myerr\u001b[0m\u001b[0;34m,\u001b[0m \u001b[0my0\u001b[0m\u001b[0;34m,\u001b[0m \u001b[0my\u001b[0m\u001b[0;34m,\u001b[0m \u001b[0mself\u001b[0m\u001b[0;34m.\u001b[0m\u001b[0mconvert_yunits\u001b[0m\u001b[0;34m)\u001b[0m\u001b[0;34m\u001b[0m\u001b[0;34m\u001b[0m\u001b[0m\n\u001b[1;32m   2341\u001b[0m \u001b[0;34m\u001b[0m\u001b[0m\n\u001b[0;32m-> 2342\u001b[0;31m         x, height, width, y, linewidth, hatch = np.broadcast_arrays(\n\u001b[0m\u001b[1;32m   2343\u001b[0m             \u001b[0;31m# Make args iterable too.\u001b[0m\u001b[0;34m\u001b[0m\u001b[0;34m\u001b[0m\u001b[0m\n\u001b[1;32m   2344\u001b[0m             np.atleast_1d(x), height, width, y, linewidth, hatch)\n",
      "\u001b[0;32m~/opt/anaconda3/lib/python3.9/site-packages/numpy/core/overrides.py\u001b[0m in \u001b[0;36mbroadcast_arrays\u001b[0;34m(*args, **kwargs)\u001b[0m\n",
      "\u001b[0;32m~/opt/anaconda3/lib/python3.9/site-packages/numpy/lib/stride_tricks.py\u001b[0m in \u001b[0;36mbroadcast_arrays\u001b[0;34m(subok, *args)\u001b[0m\n\u001b[1;32m    537\u001b[0m     \u001b[0margs\u001b[0m \u001b[0;34m=\u001b[0m \u001b[0;34m[\u001b[0m\u001b[0mnp\u001b[0m\u001b[0;34m.\u001b[0m\u001b[0marray\u001b[0m\u001b[0;34m(\u001b[0m\u001b[0m_m\u001b[0m\u001b[0;34m,\u001b[0m \u001b[0mcopy\u001b[0m\u001b[0;34m=\u001b[0m\u001b[0;32mFalse\u001b[0m\u001b[0;34m,\u001b[0m \u001b[0msubok\u001b[0m\u001b[0;34m=\u001b[0m\u001b[0msubok\u001b[0m\u001b[0;34m)\u001b[0m \u001b[0;32mfor\u001b[0m \u001b[0m_m\u001b[0m \u001b[0;32min\u001b[0m \u001b[0margs\u001b[0m\u001b[0;34m]\u001b[0m\u001b[0;34m\u001b[0m\u001b[0;34m\u001b[0m\u001b[0m\n\u001b[1;32m    538\u001b[0m \u001b[0;34m\u001b[0m\u001b[0m\n\u001b[0;32m--> 539\u001b[0;31m     \u001b[0mshape\u001b[0m \u001b[0;34m=\u001b[0m \u001b[0m_broadcast_shape\u001b[0m\u001b[0;34m(\u001b[0m\u001b[0;34m*\u001b[0m\u001b[0margs\u001b[0m\u001b[0;34m)\u001b[0m\u001b[0;34m\u001b[0m\u001b[0;34m\u001b[0m\u001b[0m\n\u001b[0m\u001b[1;32m    540\u001b[0m \u001b[0;34m\u001b[0m\u001b[0m\n\u001b[1;32m    541\u001b[0m     \u001b[0;32mif\u001b[0m \u001b[0mall\u001b[0m\u001b[0;34m(\u001b[0m\u001b[0marray\u001b[0m\u001b[0;34m.\u001b[0m\u001b[0mshape\u001b[0m \u001b[0;34m==\u001b[0m \u001b[0mshape\u001b[0m \u001b[0;32mfor\u001b[0m \u001b[0marray\u001b[0m \u001b[0;32min\u001b[0m \u001b[0margs\u001b[0m\u001b[0;34m)\u001b[0m\u001b[0;34m:\u001b[0m\u001b[0;34m\u001b[0m\u001b[0;34m\u001b[0m\u001b[0m\n",
      "\u001b[0;32m~/opt/anaconda3/lib/python3.9/site-packages/numpy/lib/stride_tricks.py\u001b[0m in \u001b[0;36m_broadcast_shape\u001b[0;34m(*args)\u001b[0m\n\u001b[1;32m    419\u001b[0m     \u001b[0;31m# use the old-iterator because np.nditer does not handle size 0 arrays\u001b[0m\u001b[0;34m\u001b[0m\u001b[0;34m\u001b[0m\u001b[0m\n\u001b[1;32m    420\u001b[0m     \u001b[0;31m# consistently\u001b[0m\u001b[0;34m\u001b[0m\u001b[0;34m\u001b[0m\u001b[0m\n\u001b[0;32m--> 421\u001b[0;31m     \u001b[0mb\u001b[0m \u001b[0;34m=\u001b[0m \u001b[0mnp\u001b[0m\u001b[0;34m.\u001b[0m\u001b[0mbroadcast\u001b[0m\u001b[0;34m(\u001b[0m\u001b[0;34m*\u001b[0m\u001b[0margs\u001b[0m\u001b[0;34m[\u001b[0m\u001b[0;34m:\u001b[0m\u001b[0;36m32\u001b[0m\u001b[0;34m]\u001b[0m\u001b[0;34m)\u001b[0m\u001b[0;34m\u001b[0m\u001b[0;34m\u001b[0m\u001b[0m\n\u001b[0m\u001b[1;32m    422\u001b[0m     \u001b[0;31m# unfortunately, it cannot handle 32 or more arguments directly\u001b[0m\u001b[0;34m\u001b[0m\u001b[0;34m\u001b[0m\u001b[0m\n\u001b[1;32m    423\u001b[0m     \u001b[0;32mfor\u001b[0m \u001b[0mpos\u001b[0m \u001b[0;32min\u001b[0m \u001b[0mrange\u001b[0m\u001b[0;34m(\u001b[0m\u001b[0;36m32\u001b[0m\u001b[0;34m,\u001b[0m \u001b[0mlen\u001b[0m\u001b[0;34m(\u001b[0m\u001b[0margs\u001b[0m\u001b[0;34m)\u001b[0m\u001b[0;34m,\u001b[0m \u001b[0;36m31\u001b[0m\u001b[0;34m)\u001b[0m\u001b[0;34m:\u001b[0m\u001b[0;34m\u001b[0m\u001b[0;34m\u001b[0m\u001b[0m\n",
      "\u001b[0;31mValueError\u001b[0m: shape mismatch: objects cannot be broadcast to a single shape.  Mismatch is between arg 0 with shape (4,) and arg 1 with shape (3725,)."
     ]
    },
    {
     "data": {
      "image/png": "[encoded data removed]",
      "text/plain": [
       "<Figure size 720x360 with 2 Axes>"
      ]
     },
     "metadata": {
      "needs_background": "light"
     },
     "output_type": "display_data"
    }
   ],
   "source": [
    "fig, (ax1, ax2) = plt.subplots(1,2, figsize=(10,5))\n",
    "\n",
    "sponge_sent = []\n",
    "chatbot_sent = []\n",
    "\n",
    "for episode in spongebob_lines:\n",
    "    for line in spongebob_lines[episode]:\n",
    "        s = sent_tokenize(line)\n",
    "        sponge_sent.append(len(s))\n",
    "for line in chatbotdata[1]:\n",
    "    chatbot_sent.append(len(sent_tokenize(line)))\n",
    "    \n",
    "chatbot_sent = np.array(chatbot_sent)\n",
    "sponge_sent = np.array(sponge_sent)\n",
    "\n",
    "\n"
   ]
  },
  {
   "cell_type": "code",
   "execution_count": null,
   "id": "5893a8b2",
   "metadata": {},
   "outputs": [],
   "source": []
  }
 ],
 "metadata": {
  "kernelspec": {
   "display_name": "Python 3 (ipykernel)",
   "language": "python",
   "name": "python3"
  },
  "language_info": {
   "codemirror_mode": {
    "name": "ipython",
    "version": 3
   },
   "file_extension": ".py",
   "mimetype": "text/x-python",
   "name": "python",
   "nbconvert_exporter": "python",
   "pygments_lexer": "ipython3",
   "version": "3.9.7"
  }
 },
 "nbformat": 4,
 "nbformat_minor": 5
}
